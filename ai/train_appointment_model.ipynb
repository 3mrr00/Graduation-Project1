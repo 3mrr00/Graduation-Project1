{
  "cells": [
    {
      "cell_type": "markdown",
      "metadata": {
        "id": "BqFSfQa7y-LV"
      },
      "source": [
        "# Appointment Scheduling Model\n",
        "\n",
        "This notebook imports `student.csv` and `professor.csv`, trains a Random Forest Classifier to recommend optimal 30-minute appointment slots (Monday-Thursday, weekday 0-3) in 24-hour format, and saves the model as `appointment_model.joblib` for Flask backend integration. It prioritizes students with fewer preferred lecture days and post-lecture slots, ensuring professor availability. Designed to run on Kaggle."
      ]
    },
    {
      "cell_type": "code",
      "source": [
        "from google.colab import drive\n",
        "drive.mount('/content/drive')"
      ],
      "metadata": {
        "id": "FkFbQRn8zSVF",
        "colab": {
          "base_uri": "https://localhost:8080/"
        },
        "outputId": "623024f1-fc09-4e95-f766-6684b0cbbfea"
      },
      "execution_count": 8,
      "outputs": [
        {
          "output_type": "stream",
          "name": "stdout",
          "text": [
            "Drive already mounted at /content/drive; to attempt to forcibly remount, call drive.mount(\"/content/drive\", force_remount=True).\n"
          ]
        }
      ]
    },
    {
      "cell_type": "code",
      "execution_count": 9,
      "metadata": {
        "id": "npakoZqJy-LY"
      },
      "outputs": [],
      "source": [
        "import pandas as pd\n",
        "import numpy as np\n",
        "from sklearn.model_selection import train_test_split\n",
        "from sklearn.ensemble import RandomForestClassifier\n",
        "from sklearn.metrics import classification_report, confusion_matrix\n",
        "import joblib\n",
        "\n",
        "# Set random seed for reproducibility\n",
        "np.random.seed(42)"
      ]
    },
    {
      "cell_type": "markdown",
      "metadata": {
        "id": "REkc-_gjy-La"
      },
      "source": [
        "## Load Data\n",
        "\n",
        "Load `student.csv` and `professor.csv` from Kaggle input directory."
      ]
    },
    {
      "cell_type": "code",
      "execution_count": 10,
      "metadata": {
        "id": "r6jam6EMy-La",
        "colab": {
          "base_uri": "https://localhost:8080/"
        },
        "outputId": "3d125125-b8c3-4fe7-e155-7ef72361a9a0"
      },
      "outputs": [
        {
          "output_type": "stream",
          "name": "stdout",
          "text": [
            "Students:\n",
            "  pre_lecs  count  post_lec_count empty_day empty_slot  is_best_appointment\n",
            "0     1000      1               1      0111      11:30                    1\n",
            "1     0001      1               2      1110      10:30                    0\n",
            "2     1000      1               2      0111      08:30                    1\n",
            "3     0010      1               1      1101      13:00                    1\n",
            "4     1001      2               1      0110      11:30                    0\n",
            "\n",
            "Professors:\n",
            "  availability_day       availability_slots\n",
            "0             1111  08:00,08:30,10:30,09:30\n",
            "1             1010        08:30,11:30,11:00\n",
            "2             1110        12:30,08:30,10:30\n",
            "3             1010        13:30,13:00,09:00\n",
            "4             0111        08:00,09:00,11:00\n"
          ]
        }
      ],
      "source": [
        "# Load datasets and convert binary string columns to strings\n",
        "students = pd.read_csv('/content/student.csv')\n",
        "professors = pd.read_csv('/content/professor.csv')\n",
        "\n",
        "# Convert columns to strings to ensure zfill works\n",
        "students['pre_lecs'] = students['pre_lecs'].astype(str)\n",
        "students['empty_day'] = students['empty_day'].astype(str)\n",
        "students['empty_slot'] = students['empty_slot'].astype(str)\n",
        "professors['availability_day'] = professors['availability_day'].astype(str)\n",
        "professors['availability_slots'] = professors['availability_slots'].astype(str)\n",
        "\n",
        "# Ensure binary string columns are padded to 4 digits\n",
        "students['pre_lecs'] = students['pre_lecs'].apply(lambda x: x.zfill(4))\n",
        "students['empty_day'] = students['empty_day'].apply(lambda x: x.zfill(4))\n",
        "professors['availability_day'] = professors['availability_day'].apply(lambda x: x.zfill(4))\n",
        "\n",
        "print('Students:')\n",
        "print(students.head())\n",
        "print('\\nProfessors:')\n",
        "print(professors.head())"
      ]
    },
    {
      "cell_type": "markdown",
      "metadata": {
        "id": "uGM2vXCky-Lb"
      },
      "source": [
        "## Feature Engineering\n",
        "\n",
        "Generate student-professor pairs and compute features for model training."
      ]
    },
    {
      "cell_type": "code",
      "execution_count": 11,
      "metadata": {
        "id": "7kv2DwoOy-Lb",
        "colab": {
          "base_uri": "https://localhost:8080/"
        },
        "outputId": "cf0eeaa1-f369-4342-f057-04a0de1facf7"
      },
      "outputs": [
        {
          "output_type": "stream",
          "name": "stdout",
          "text": [
            "\n",
            "Feature DataFrame:\n",
            "   day_overlap  slot_match  student_count  post_lec_count  is_best_appointment\n",
            "0            0           1              2               2                    0\n",
            "1            3           0              1               1                    0\n",
            "2            3           0              1               1                    0\n",
            "3            3           0              1               1                    0\n",
            "4            1           0              2               2                    0\n"
          ]
        }
      ],
      "source": [
        "# Function to compute overlap between binary strings\n",
        "def compute_overlap(str1, str2):\n",
        "    return sum(a == '1' and b == '1' for a, b in zip(str1, str2))\n",
        "\n",
        "# Generate pairs\n",
        "n_pairs = 1000\n",
        "data = {\n",
        "    'day_overlap': [],\n",
        "    'slot_match': [],\n",
        "    'student_count': [],\n",
        "    'post_lec_count': [],\n",
        "    'is_best_appointment': []\n",
        "}\n",
        "\n",
        "for _ in range(n_pairs):\n",
        "    student = students.sample(1).iloc[0]\n",
        "    professor = professors.sample(1).iloc[0]\n",
        "\n",
        "    day_overlap = compute_overlap(student['empty_day'], professor['availability_day'])\n",
        "    prof_slots = professor['availability_slots'].split(',')\n",
        "    slot_match = 1 if student['empty_slot'] in prof_slots else 0\n",
        "\n",
        "    # Assign is_best_appointment\n",
        "    if slot_match == 1 and day_overlap > 0:\n",
        "        if student['count'] == 1 and student['post_lec_count'] == 1:\n",
        "            is_best = np.random.choice([0, 1], p=[0.2, 0.8])\n",
        "        elif student['count'] <= 2 and student['post_lec_count'] <= 2:\n",
        "            is_best = np.random.choice([0, 1], p=[0.5, 0.5])\n",
        "        else:\n",
        "            is_best = 0\n",
        "    else:\n",
        "        is_best = 0\n",
        "\n",
        "    data['day_overlap'].append(day_overlap)\n",
        "    data['slot_match'].append(slot_match)\n",
        "    data['student_count'].append(student['count'])\n",
        "    data['post_lec_count'].append(student['post_lec_count'])\n",
        "    data['is_best_appointment'].append(is_best)\n",
        "\n",
        "# Create DataFrame\n",
        "df = pd.DataFrame(data)\n",
        "print('\\nFeature DataFrame:')\n",
        "print(df.head())"
      ]
    },
    {
      "cell_type": "markdown",
      "metadata": {
        "id": "5VGJOvHxy-Lb"
      },
      "source": [
        "## Train Model\n",
        "\n",
        "Train a Random Forest Classifier with class balancing."
      ]
    },
    {
      "cell_type": "code",
      "execution_count": 19,
      "metadata": {
        "id": "4EMwasxYy-Lc",
        "colab": {
          "base_uri": "https://localhost:8080/"
        },
        "outputId": "984fe732-39d5-432c-afc8-1653ffc63783"
      },
      "outputs": [
        {
          "output_type": "stream",
          "name": "stdout",
          "text": [
            "\n",
            "Classification Report:\n",
            "              precision    recall  f1-score   support\n",
            "\n",
            "           0       1.00      0.94      0.97       175\n",
            "           1       0.71      1.00      0.83        25\n",
            "\n",
            "    accuracy                           0.95       200\n",
            "   macro avg       0.86      0.97      0.90       200\n",
            "weighted avg       0.96      0.95      0.95       200\n",
            "\n",
            "\n",
            "Confusion Matrix:\n",
            "[[165  10]\n",
            " [  0  25]]\n",
            "\n",
            "Feature Importance:\n",
            "          feature  importance\n",
            "1      slot_match    0.944585\n",
            "2   student_count    0.022406\n",
            "0     day_overlap    0.021289\n",
            "3  post_lec_count    0.011720\n"
          ]
        }
      ],
      "source": [
        "X = df[['day_overlap', 'slot_match', 'student_count', 'post_lec_count']]\n",
        "y = df['is_best_appointment']\n",
        "X_train, X_test, y_train, y_test = train_test_split(X, y, test_size=0.2, random_state=42)\n",
        "\n",
        "# Train Random Forest model with class balancing\n",
        "model = RandomForestClassifier(n_estimators=100, random_state=42, class_weight='balanced')\n",
        "model.fit(X_train, y_train)\n",
        "\n",
        "# ✅ حفظ النموذج\n",
        "joblib.dump(model, 'appointment_model.pkl')\n",
        "\n",
        "# Evaluate model\n",
        "y_pred = model.predict(X_test)\n",
        "print('\\nClassification Report:')\n",
        "print(classification_report(y_test, y_pred))\n",
        "print('\\nConfusion Matrix:')\n",
        "print(confusion_matrix(y_test, y_pred))\n",
        "\n",
        "# Feature importance\n",
        "feature_importance = pd.DataFrame({\n",
        "    'feature': X.columns,\n",
        "    'importance': model.feature_importances_\n",
        "})\n",
        "print('\\nFeature Importance:')\n",
        "print(feature_importance.sort_values('importance', ascending=False))"
      ]
    },
    {
      "cell_type": "markdown",
      "metadata": {
        "id": "AXM1fmFUy-Lc"
      },
      "source": [
        "## Save Model\n",
        "\n",
        "Save the model for Flask backend integration."
      ]
    },
    {
      "cell_type": "code",
      "execution_count": 20,
      "metadata": {
        "id": "8W2g6e5ny-Lc",
        "colab": {
          "base_uri": "https://localhost:8080/"
        },
        "outputId": "dc34aeae-d799-47fb-cc5b-bdd368d577ef"
      },
      "outputs": [
        {
          "output_type": "stream",
          "name": "stdout",
          "text": [
            "\n",
            "Example Prediction:\n",
            "Best Appointment? True\n",
            "Non-Optimal Case Prediction:\n",
            "Best Appointment? False\n"
          ]
        }
      ],
      "source": [
        "import pandas as pd\n",
        "import joblib\n",
        "\n",
        "# تحميل النموذج المحفوظ\n",
        "model = joblib.load(\"appointment_model.pkl\")\n",
        "\n",
        "\n",
        "# حالة مثالية (تطابق في اليوم والوقت، وعدد طلاب قليل)\n",
        "new_data = pd.DataFrame({\n",
        "    'day_overlap': [2],\n",
        "    'slot_match': [1],\n",
        "    'student_count': [1],\n",
        "    'post_lec_count': [1]\n",
        "})\n",
        "\n",
        "# التنبؤ\n",
        "prediction = model.predict(new_data)\n",
        "print('\\nExample Prediction:')\n",
        "print(f'Best Appointment? {prediction[0] == 1}')\n",
        "\n",
        "# حالة غير مثالية (لا يوجد تطابق في الوقت، وعدد طلاب أكبر)\n",
        "new_data_non_optimal = pd.DataFrame({\n",
        "    'day_overlap': [1],\n",
        "    'slot_match': [0],\n",
        "    'student_count': [2],\n",
        "    'post_lec_count': [2]\n",
        "})\n",
        "\n",
        "prediction_non_optimal = model.predict(new_data_non_optimal)\n",
        "print(f'Non-Optimal Case Prediction:')\n",
        "print(f'Best Appointment? {prediction_non_optimal[0] == 1}')\n"
      ]
    },
    {
      "cell_type": "markdown",
      "metadata": {
        "id": "m6XK4uXxy-Ld"
      },
      "source": [
        "## Test Model\n",
        "\n",
        "Test the model with a sample input."
      ]
    },
    {
      "cell_type": "code",
      "execution_count": 21,
      "metadata": {
        "id": "_BxWFHbOy-Ld",
        "colab": {
          "base_uri": "https://localhost:8080/"
        },
        "outputId": "ae7ca937-cc6e-4996-c674-0e734c875103"
      },
      "outputs": [
        {
          "output_type": "stream",
          "name": "stdout",
          "text": [
            "\n",
            "Example Prediction:\n",
            "Best Appointment? True\n",
            "Non-Optimal Case Prediction:\n",
            "Best Appointment? False\n"
          ]
        }
      ],
      "source": [
        "# Example input (optimal case: high overlap, matching slot, low counts)\n",
        "new_data = pd.DataFrame({\n",
        "    'day_overlap': [2],\n",
        "    'slot_match': [1],\n",
        "    'student_count': [1],\n",
        "    'post_lec_count': [1]\n",
        "})\n",
        "\n",
        "# Predict\n",
        "prediction = model.predict(new_data)\n",
        "print('\\nExample Prediction:')\n",
        "print(f'Best Appointment? {prediction[0] == 1}')\n",
        "\n",
        "# Non-optimal case: no slot match\n",
        "new_data_non_optimal = pd.DataFrame({\n",
        "    'day_overlap': [1],\n",
        "    'slot_match': [0],\n",
        "    'student_count': [2],\n",
        "    'post_lec_count': [2]\n",
        "})\n",
        "\n",
        "prediction_non_optimal = model.predict(new_data_non_optimal)\n",
        "print(f'Non-Optimal Case Prediction:')\n",
        "print(f'Best Appointment? {prediction_non_optimal[0] == 1}')"
      ]
    },
    {
      "cell_type": "code",
      "source": [],
      "metadata": {
        "id": "qIpEW8ka6s4T"
      },
      "execution_count": null,
      "outputs": []
    }
  ],
  "metadata": {
    "kernelspec": {
      "display_name": "Python 3",
      "language": "python",
      "name": "python3"
    },
    "language_info": {
      "codemirror_mode": {
        "name": "ipython",
        "version": 3
      },
      "file_extension": ".py",
      "mimetype": "text/x-python",
      "name": "python",
      "nbconvert_exporter": "python",
      "pygments_lexer": "ipython3",
      "version": "3.7.12"
    },
    "colab": {
      "provenance": []
    }
  },
  "nbformat": 4,
  "nbformat_minor": 0
}